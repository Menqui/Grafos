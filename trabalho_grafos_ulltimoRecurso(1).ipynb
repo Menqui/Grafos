{
 "cells": [
  {
   "cell_type": "code",
   "execution_count": 65,
   "metadata": {
    "id": "Fdmtuf3s4K_i",
    "scrolled": true
   },
   "outputs": [],
   "source": [
    "import numpy as np"
   ]
  },
  {
   "cell_type": "code",
   "execution_count": 99,
   "metadata": {},
   "outputs": [
    {
     "name": "stdout",
     "output_type": "stream",
     "text": [
      "[180.0, 251.0, 7.39, 243.0, 294.0, 6.33, 22.0, 416.0, 4.67, 364.0, 502.0, 6.36, 200.0, 997.0, 7.09, 235.0, 514.0, 8.16, 790.0, 964.0, 5.42, 543.0, 836.0, 7.46, 197.0, 834.0, 1.12, 104.0, 909.0, 3.51, 86.0, 499.0, 0.72, 227.0, 722.0, 8.47]\n"
     ]
    }
   ],
   "source": [
    "arquivo = open(r'C:\\Users\\Public\\Downloads\\Entrada_pratica.txt','r')\n",
    "#arquivo = open(r'C:\\Users\\Usuário\\Downloads\\grafo_W_1_1.txt','r')\n",
    "file =arquivo.read().split()\n",
    "qtd_vertices=file[0]\n",
    "qtd_vertices=int(qtd_vertices) #converte a quantidade de vertices que antes era string para um int\n",
    "file.pop(0)\n",
    "nu=[]\n",
    "for i in file:\n",
    "    nu.append(float(i))\n",
    "print(nu)\n",
    "nu=np.array(nu) #converte a lista para um array numpy\n",
    "v=[]\n",
    "pesos=[]\n",
    "for j in nu:\n",
    "    if j% 1==0: #resto da divisao der inteira, eh um numero inteiro\n",
    "        v.append(j)\n",
    "    else:\n",
    "        pesos.append(j)\n",
    "length = len(v) #define um numero que sera usado para pular indices no array\n",
    "#print('vertices originais: ',v) \n",
    "v1=v[0:length:2]\n",
    "v1 = list(map(int, v1))\n",
    "#print('v1 :',v1) \n",
    "v2=v[1:length:2]\n",
    "v2 = list(map(int, v2))\n",
    "#print('v2:',v2) \n",
    "#print('pesos : ',pesos)"
   ]
  },
  {
   "cell_type": "code",
   "execution_count": 108,
   "metadata": {
    "colab": {
     "base_uri": "https://localhost:8080/"
    },
    "id": "KotN1OgSUuGa",
    "outputId": "d0c4e5cd-45d2-46ac-f8a1-c316ac6adc37"
   },
   "outputs": [
    {
     "ename": "IndexError",
     "evalue": "list index out of range",
     "output_type": "error",
     "traceback": [
      "\u001b[1;31m---------------------------------------------------------------------------\u001b[0m",
      "\u001b[1;31mIndexError\u001b[0m                                Traceback (most recent call last)",
      "Input \u001b[1;32mIn [108]\u001b[0m, in \u001b[0;36m<cell line: 60>\u001b[1;34m()\u001b[0m\n\u001b[0;32m     61\u001b[0m     \u001b[38;5;28;01mfor\u001b[39;00m b \u001b[38;5;129;01min\u001b[39;00m v2:\n\u001b[0;32m     62\u001b[0m         \u001b[38;5;28;01mfor\u001b[39;00m c \u001b[38;5;129;01min\u001b[39;00m pesos:\n\u001b[1;32m---> 63\u001b[0m             g\u001b[38;5;241m.\u001b[39madd_aresta(\u001b[43mv1\u001b[49m\u001b[43m[\u001b[49m\u001b[43ma\u001b[49m\u001b[43m]\u001b[49m,v2[b],pesos[c])\n\u001b[0;32m     64\u001b[0m g\u001b[38;5;241m.\u001b[39mkruskal()\n",
      "\u001b[1;31mIndexError\u001b[0m: list index out of range"
     ]
    }
   ],
   "source": [
    "class Graph:\n",
    "    def __init__(self,qtd_vertices):#função que cria o objeto grafo \n",
    "        self.qtd_vertices =qtd_vertices  #armazena a quatidade de vertices\n",
    "        self.arestasgrafo =[]   # lista onde será armazenado as arestas\n",
    "\n",
    "        \n",
    "    def add_aresta(self,vertice1,vertice2,peso): #função que adiciona as arestas\n",
    "        self.arestasgrafo.append([vertice1,vertice2,peso])\n",
    "        \n",
    "    #encontra o primeiro vertice da subarvore contendo o vertice 'i'\n",
    "    def achar_subarvore(self,pai,i): #metodo que busca recursivamennte o pai(antecessor) e encontra uma subarvore que contem o vertice i \n",
    "        if pai[i]==i:\n",
    "            return i\n",
    "        return self.achar_subarvore(pai,pai[i])\n",
    "        \n",
    "    #conectar as subarvores que contem os vertices 'a' e 'b'\n",
    "    def conexao_arvores(self,pai,subarvore_tam,a,b):\n",
    "        Araiz=self.achar_subarvore(pai,a)  #encontra a subarvore com o vertice a\n",
    "        Braiz=self.achar_subarvore(pai,b)  #encontra a subarvore com o vertice b \n",
    "        if subarvore_tam[Araiz] < subarvore_tam[Braiz]:  #se subarvore a for menor que b ele a conecta em b\n",
    "           pai[Araiz] = Braiz\n",
    "        elif subarvore_tam[Araiz]>subarvore_tam[Braiz] :#se subarvore b for menor que a conecta b em a\n",
    "            pai[Braiz] = Araiz\n",
    "        else:\n",
    "            pai[Braiz] =Araiz\n",
    "            subarvore_tam[Araiz]+=1\n",
    "            \n",
    "    def kruskal(self): #aplicando o algoritmo de kruskal \n",
    "        resultado=[] #cria uma lista 'resultado' para guardar o resultado final\n",
    "        i=0 #interator\n",
    "        e=0 #numero de arestas na arvore geradora\n",
    "        self.arestasgrafo =sorted(self.arestasgrafo,  key=lambda item: item[2]) #ordena a lista de arestas pelo peso delas\n",
    "        custo=0 #variavel responsavel por calcular o custo\n",
    "        \n",
    "        #vetores auxiliares\n",
    "        pai=[] #inicializa a lista pai\n",
    "        subarvore_tam=[] #inicia a lista com o tamanho da subarvore\n",
    "        for x in range(self.qtd_vertices): #cria um for que vai de 0 ao num de vertices do grafo\n",
    "            pai.append(x) #adiciona na lista 'pai'\n",
    "            subarvore_tam.append(0)\n",
    "            \n",
    "            \n",
    "        #num de arestas numa AGM é o numero de vertices menos 1    \n",
    "        while e < self.qtd_vertices-1: \n",
    "            u,v,w = self.arestasgrafo[i]\n",
    "            i = i+1 \n",
    "            custo = i\n",
    "            a= self.achar_subarvore(pai,u) #verifica o vertice 'u'\n",
    "            b= self.achar_subarvore(pai,v) #verifica o vertice 'v'\n",
    "            \n",
    "            if a != b:#se a não estiver contido em b (não forma ciclo)\n",
    "             e=e+1   #incrementa o custo\n",
    "             resultado.append([u ,v ,w])\n",
    "             self.conexao_arvores(pai, subarvore_tam ,a , b)\n",
    "        for u,v,w in resultado:\n",
    "            print(\"%d-%d :%d\" % (u,v,w))\n",
    "        print(\"custo: %d\" %(custo))\n",
    "\n",
    "g=Graph(qtd_vertices)\n",
    "for a in v1:\n",
    "    for b in v2:\n",
    "        for c in pesos:\n",
    "            g.add_aresta(v1[a],v2[b],pesos[c])\n",
    "g.kruskal()"
   ]
  },
  {
   "cell_type": "code",
   "execution_count": null,
   "metadata": {},
   "outputs": [],
   "source": []
  }
 ],
 "metadata": {
  "colab": {
   "collapsed_sections": [],
   "name": "trabalho_grafos_ulltimoRecurso(1).ipynb",
   "provenance": []
  },
  "kernelspec": {
   "display_name": "Python 3 (ipykernel)",
   "language": "python",
   "name": "python3"
  },
  "language_info": {
   "codemirror_mode": {
    "name": "ipython",
    "version": 3
   },
   "file_extension": ".py",
   "mimetype": "text/x-python",
   "name": "python",
   "nbconvert_exporter": "python",
   "pygments_lexer": "ipython3",
   "version": "3.9.12"
  }
 },
 "nbformat": 4,
 "nbformat_minor": 1
}
