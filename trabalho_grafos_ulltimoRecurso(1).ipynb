{
 "cells": [
  {
   "cell_type": "code",
   "execution_count": 65,
   "metadata": {
    "id": "Fdmtuf3s4K_i",
    "scrolled": true
   },
   "outputs": [],
   "source": [
    "import numpy as np"
   ]
  },
  {
   "cell_type": "code",
   "execution_count": 85,
   "metadata": {},
   "outputs": [
    {
     "name": "stdout",
     "output_type": "stream",
     "text": [
      "vertices originais:  [180.0, 251.0, 243.0, 294.0, 22.0, 416.0, 364.0, 502.0, 200.0, 997.0, 235.0, 514.0, 790.0, 964.0, 543.0, 836.0, 197.0, 834.0, 104.0, 909.0, 86.0, 499.0, 227.0, 722.0]\n",
      "v1 : [180, 243, 22, 364, 200, 235, 790, 543, 197, 104, 86, 227]\n",
      "v2: [251, 294, 416, 502, 997, 514, 964, 836, 834, 909, 499, 722]\n",
      "pesos :  [7.39, 6.33, 4.67, 6.36, 7.09, 8.16, 5.42, 7.46, 1.12, 3.51, 0.72, 8.47]\n"
     ]
    }
   ],
   "source": [
    "arquivo = open(r'C:\\Users\\Public\\Downloads\\Entrada_pratica.txt','r')\n",
    "#arquivo = open(r'C:\\Users\\Usuário\\Downloads\\grafo_W_1_1.txt','r')\n",
    "file =arquivo.read().split()\n",
    "qtd_vertices=file[0]\n",
    "file.pop(0)\n",
    "nu=[]\n",
    "for i in file:\n",
    "    nu.append(float(i))\n",
    "#print(nu)\n",
    "nu=np.array(nu) #converte a lista para um array numpy\n",
    "v=[]\n",
    "pesos=[]\n",
    "for j in nu:\n",
    "    if j% 1==0: #resto da divisao der inteira, eh um numero inteiro\n",
    "        v.append(j)\n",
    "    else:\n",
    "        pesos.append(j)\n",
    "length = len(v) #define um numero que sera usado para pular indices no array\n",
    "print('vertices originais: ',v)\n",
    "v1=v[0:length:2]\n",
    "v1 = list(map(int, v1))\n",
    "print('v1 :',v1)\n",
    "v2=v[1:length:2]\n",
    "v2 = list(map(int, v2))\n",
    "print('v2:',v2)\n",
    "print('pesos : ',pesos)"
   ]
  },
  {
   "cell_type": "code",
   "execution_count": 92,
   "metadata": {
    "colab": {
     "base_uri": "https://localhost:8080/"
    },
    "id": "KotN1OgSUuGa",
    "outputId": "d0c4e5cd-45d2-46ac-f8a1-c316ac6adc37"
   },
   "outputs": [
    {
     "ename": "IndexError",
     "evalue": "list index out of range",
     "output_type": "error",
     "traceback": [
      "\u001b[1;31m---------------------------------------------------------------------------\u001b[0m",
      "\u001b[1;31mIndexError\u001b[0m                                Traceback (most recent call last)",
      "Input \u001b[1;32mIn [92]\u001b[0m, in \u001b[0;36m<cell line: 60>\u001b[1;34m()\u001b[0m\n\u001b[0;32m     57\u001b[0m         \u001b[38;5;28mprint\u001b[39m(\u001b[38;5;124m\"\u001b[39m\u001b[38;5;124mcusto: \u001b[39m\u001b[38;5;132;01m%d\u001b[39;00m\u001b[38;5;124m\"\u001b[39m \u001b[38;5;241m%\u001b[39m(custo))\n\u001b[0;32m     59\u001b[0m g\u001b[38;5;241m=\u001b[39mGraph(qtd_vertices)\n\u001b[1;32m---> 60\u001b[0m \u001b[43mgraph\u001b[49m\u001b[38;5;241;43m.\u001b[39;49m\u001b[43mkruskals_mst\u001b[49m\u001b[43m(\u001b[49m\u001b[43m)\u001b[49m\n",
      "Input \u001b[1;32mIn [90]\u001b[0m, in \u001b[0;36mGraph.kruskals_mst\u001b[1;34m(self)\u001b[0m\n\u001b[0;32m     48\u001b[0m \u001b[38;5;66;03m# Important property of MSTs\u001b[39;00m\n\u001b[0;32m     49\u001b[0m \u001b[38;5;66;03m# number of egdes in a MST is \u001b[39;00m\n\u001b[0;32m     50\u001b[0m \u001b[38;5;66;03m# equal to (m_num_of_nodes - 1)\u001b[39;00m\n\u001b[0;32m     51\u001b[0m  \u001b[38;5;28;01mwhile\u001b[39;00m e \u001b[38;5;241m<\u001b[39m (\u001b[38;5;28mself\u001b[39m\u001b[38;5;241m.\u001b[39mm_num_of_nodes \u001b[38;5;241m-\u001b[39m \u001b[38;5;241m1\u001b[39m):\n\u001b[0;32m     52\u001b[0m   \u001b[38;5;66;03m# Pick an edge with the minimal weight\u001b[39;00m\n\u001b[1;32m---> 53\u001b[0m    node1, node2, weight \u001b[38;5;241m=\u001b[39m \u001b[38;5;28;43mself\u001b[39;49m\u001b[38;5;241;43m.\u001b[39;49m\u001b[43mm_graph\u001b[49m\u001b[43m[\u001b[49m\u001b[43mi\u001b[49m\u001b[43m]\u001b[49m\n\u001b[0;32m     54\u001b[0m    i \u001b[38;5;241m=\u001b[39m i \u001b[38;5;241m+\u001b[39m \u001b[38;5;241m1\u001b[39m\n\u001b[0;32m     56\u001b[0m    x \u001b[38;5;241m=\u001b[39m \u001b[38;5;28mself\u001b[39m\u001b[38;5;241m.\u001b[39mfind_subtree(parent, node1)\n",
      "\u001b[1;31mIndexError\u001b[0m: list index out of range"
     ]
    }
   ],
   "source": [
    "class Graph:\n",
    "    def __init__(self,qtd_vertices):#função que cria o objeto grafo \n",
    "        self.qtd_vertices =qtd_vertices  #armazena a quatidade de vertices\n",
    "        self.arestasgrafo =[]   # lista onde será armazenado as arestas\n",
    "\n",
    "        \n",
    "    def add_aresta(self,vertice1,vertice2,peso): #função que adiciona as arestas\n",
    "        self.arestasgrafo.append([vertice1,vertice2,peso])\n",
    "        \n",
    "    #encontra o primeiro vertice da subarvore contendo o vertice 'i'\n",
    "    def achar_subarvore(self,pai,i): #metodo que busca recursivamennte o pai(antecessor) e encontra uma subarvore que contem o vertice i \n",
    "        if pai[i]==i:\n",
    "            return i\n",
    "        return self.achar_subarvore(pai,pai[i])\n",
    "        \n",
    "    #conectar as subarvores que contem os vertices 'a' e 'b'\n",
    "    def conexao_arvores(self,pai,subarvore_tam,a,b):\n",
    "        Araiz=self.achar_subarvore(pai,a)  #encontra a subarvore com o vertice a\n",
    "        Braiz=self.achar_subarvore(pai,b)  #encontra a subarvore com o vertice b \n",
    "        if subarvore_tam[Araiz] < subarvore_tam[Braiz]:  #se subarvore a for menor que b ele a conecta em b\n",
    "           pai[Araiz] = Braiz\n",
    "        elif subarvore_tam[Araiz]>subarvore_tam[Braiz] :#se subarvore b for menor que a conecta b em a\n",
    "            pai[Braiz] = Araiz\n",
    "        else:\n",
    "            pai[Braiz] =Araiz\n",
    "            subarvore_tam[Araiz]+=1\n",
    "            \n",
    "    def kruskal(self): #aplicando o algoritmo de kruskal \n",
    "        resultado=[] #cria uma lista 'resultado' para guardar o resultado final\n",
    "        i=0 #interator\n",
    "        e=0 #numero de arestas na arvore geradora\n",
    "        self.arestasgrafo =sorted(self.arestasgrafo,  key=lambda item: item[2]) #ordena a lista de arestas pelo peso delas\n",
    "        custo=0 #variavel responsavel por calcular o custo\n",
    "        \n",
    "        #vetores auxiliares\n",
    "        pai=[] #inicializa a lista pai\n",
    "        subarvore_tam=[] #inicia a lista com o tamanho da subarvore\n",
    "        for x in range(self.qtd_vertices): #cria um for que vai de 0 ao num de vertices do grafo\n",
    "            pai.append(x) #adiciona na lista 'pai'\n",
    "            subarvore_tam.append(0)\n",
    "            \n",
    "            \n",
    "        #num de arestas numa AGM é o numero de vertices menos 1    \n",
    "        while e < self.qtd_vertices-1: \n",
    "            u,v,w = self.arestasgrafo[i]\n",
    "            i = i+1 \n",
    "            custo = i\n",
    "            a= self.achar_subarvore(pai,u) #verifica o vertice 'u'\n",
    "            b= self.achar_subarvore(pai,v) #verifica o vertice 'v'\n",
    "            \n",
    "            if a != b:#se a não estiver contido em b (não forma ciclo)\n",
    "             e=e+1   #incrementa o custo\n",
    "             resultado.append([u ,v ,w])\n",
    "             self.conexao_arvores(pai, subarvore_tam ,a , b)\n",
    "        for u,v,w in resultado:\n",
    "            print(\"%d-%d :%d\" % (u,v,w))\n",
    "        print(\"custo: %d\" %(custo))\n",
    "\n",
    "g=Graph(qtd_vertices)\n",
    "graph.kruskals_mst()"
   ]
  },
  {
   "cell_type": "code",
   "execution_count": null,
   "metadata": {},
   "outputs": [],
   "source": []
  }
 ],
 "metadata": {
  "colab": {
   "collapsed_sections": [],
   "name": "trabalho_grafos_ulltimoRecurso(1).ipynb",
   "provenance": []
  },
  "kernelspec": {
   "display_name": "Python 3 (ipykernel)",
   "language": "python",
   "name": "python3"
  },
  "language_info": {
   "codemirror_mode": {
    "name": "ipython",
    "version": 3
   },
   "file_extension": ".py",
   "mimetype": "text/x-python",
   "name": "python",
   "nbconvert_exporter": "python",
   "pygments_lexer": "ipython3",
   "version": "3.9.12"
  }
 },
 "nbformat": 4,
 "nbformat_minor": 1
}
